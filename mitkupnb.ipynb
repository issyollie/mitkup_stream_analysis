{
 "cells": [
  {
   "cell_type": "markdown",
   "id": "04ae4b39-95b7-4c16-997c-ed07e79ad036",
   "metadata": {},
   "source": [
    "# Mitkof Stream Initiation Research "
   ]
  },
  {
   "cell_type": "markdown",
   "id": "aa4a0ad8-2243-4c67-b499-3065d02d88c4",
   "metadata": {},
   "source": [
    "### Dependencies"
   ]
  },
  {
   "cell_type": "code",
   "execution_count": null,
   "id": "40139a1e-fa82-4fe9-a680-f5e00392859d",
   "metadata": {},
   "outputs": [],
   "source": []
  }
 ],
 "metadata": {
  "kernelspec": {
   "display_name": "Python 3 (ipykernel)",
   "language": "python",
   "name": "python3"
  },
  "language_info": {
   "codemirror_mode": {
    "name": "ipython",
    "version": 3
   },
   "file_extension": ".py",
   "mimetype": "text/x-python",
   "name": "python",
   "nbconvert_exporter": "python",
   "pygments_lexer": "ipython3",
   "version": "3.11.13"
  }
 },
 "nbformat": 4,
 "nbformat_minor": 5
}
