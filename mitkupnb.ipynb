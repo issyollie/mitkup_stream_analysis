{
 "cells": [
  {
   "cell_type": "markdown",
   "id": "04ae4b39-95b7-4c16-997c-ed07e79ad036",
   "metadata": {},
   "source": [
    "# Mitkof Stream Initiation Research "
   ]
  },
  {
   "cell_type": "markdown",
   "id": "aa4a0ad8-2243-4c67-b499-3065d02d88c4",
   "metadata": {},
   "source": [
    "### Dependencies"
   ]
  },
  {
   "cell_type": "code",
   "execution_count": null,
   "id": "40139a1e-fa82-4fe9-a680-f5e00392859d",
   "metadata": {},
   "outputs": [],
   "source": [
    "import geopandas as gpd\n",
    "import pandas as pd\n",
    "import numpy as np\n",
    "import os "
   ]
  },
  {
   "cell_type": "markdown",
   "id": "08fa71dc-969f-482c-b747-a28aaa33d4d4",
   "metadata": {},
   "source": [
    "## Directory"
   ]
  },
  {
   "cell_type": "code",
   "execution_count": null,
   "id": "f7d13cd7-8214-4420-b163-697ae23c4196",
   "metadata": {
    "scrolled": true
   },
   "outputs": [],
   "source": [
    "cd MitKup"
   ]
  },
  {
   "cell_type": "code",
   "execution_count": null,
   "id": "a940345e-7b4e-4b09-a0a7-98a2d1214841",
   "metadata": {},
   "outputs": [],
   "source": [
    "cd local_layers"
   ]
  },
  {
   "cell_type": "markdown",
   "id": "a3092ccc-50f4-42e0-b4a7-c4c706c8053b",
   "metadata": {},
   "source": [
    "## Reading Files"
   ]
  },
  {
   "cell_type": "code",
   "execution_count": null,
   "id": "65db3338-f3fa-4e10-ba38-61aa5f0bf464",
   "metadata": {},
   "outputs": [],
   "source": [
    "# not in local layers, in mitkup \n",
    "reach = gpd.read_file(\"reach_Mitkup.shp\")"
   ]
  },
  {
   "cell_type": "markdown",
   "id": "840a3e13-3c53-46bf-bb8c-056e8dca6ddf",
   "metadata": {},
   "source": [
    "### Inspection of files"
   ]
  },
  {
   "cell_type": "code",
   "execution_count": null,
   "id": "c0b29e9e-c7f0-405f-bddd-0df474898772",
   "metadata": {
    "scrolled": true
   },
   "outputs": [],
   "source": [
    "reach.columns"
   ]
  },
  {
   "cell_type": "markdown",
   "id": "e7bcbac0-2d01-4d16-883b-233ce5e30548",
   "metadata": {},
   "source": [
    "### Bounding Box"
   ]
  },
  {
   "cell_type": "code",
   "execution_count": null,
   "id": "43cc95b6-d002-43af-9a20-27f7df9caddb",
   "metadata": {},
   "outputs": [],
   "source": [
    "bbox = gpd.read_file(\"bbox.shp\")\n",
    "bbox.explore"
   ]
  },
  {
   "cell_type": "code",
   "execution_count": null,
   "id": "a0282744-bbcd-4436-91c6-725a41f037df",
   "metadata": {},
   "outputs": [],
   "source": [
    "smreach = gpd.read_file(\"reach_bbox.shp\")"
   ]
  },
  {
   "cell_type": "code",
   "execution_count": null,
   "id": "2553b283-8a16-4483-9181-1f1d50e2cac7",
   "metadata": {
    "scrolled": true
   },
   "outputs": [],
   "source": [
    "# Checking what the values are for a certain column. \n",
    "smreach[\"DOWN_ID\"].unique()"
   ]
  },
  {
   "cell_type": "code",
   "execution_count": null,
   "id": "a1a8eeea-447f-4983-bc4b-5366c4917ccc",
   "metadata": {
    "scrolled": true
   },
   "outputs": [],
   "source": [
    "smreach.columns"
   ]
  },
  {
   "cell_type": "markdown",
   "id": "7eb7c9ea-396d-41f8-a96b-208c6724406e",
   "metadata": {},
   "source": [
    "### Reach Attribute List"
   ]
  },
  {
   "cell_type": "markdown",
   "id": "9b02445a-e4e9-434f-9dfc-43826caf52ed",
   "metadata": {},
   "source": [
    "[Stream measurement and documentation](https://www.netmaptools.org/Pages/NetMapHelp/netmap_synthetic_stream_layer_derivation.htm?mw=MjQw&st=MQ==&sct=MA==&ms=AAAAAA==)"
   ]
  },
  {
   "cell_type": "markdown",
   "id": "6d17e10a-6fcb-4ab5-b18e-856539a9a840",
   "metadata": {},
   "source": [
    "* area_sqkm = drainage area\n",
    "* elev_m = reach elevation\n",
    "* src_distance = search distance....?\n",
    "* out_dist? \n",
    "* fitelev = ? \n",
    "* strm_order = [stream order documentation](https://www.netmaptools.org/Pages/NetMapHelp/stream_order.htm) the confluence of two first order channels creates a second order stream. Two second order streams create a third order channel, and so forth. stream order is sensitive to the upward extent of the channel network or locations of channels heads (e.g., number and density of first-order channels).\n",
    "* azimuth_deg = The predominant direction of the stream in the downstream direction; its orientation with respect to true north (0 or 360 degrees).\n",
    "sinuosity = the measure of deviation of a channel between two points from the shortest possible path is calculated as the ratio of actual channel path length divided by shortest path length (Figure 1), calculated by dividing the length of the stream channel by the straight line distance\n",
    "* MNANPRC_M = The dmean annual precipitation as reflected in the stream channels (routed from drainage wings). \n",
    "* MEANANNCMS = Mean annual flow, calculated per channel segment in cubic meters per second (CMS).\n",
    "* width_m = channel width\n",
    "* fp_width = [flood plane width](https://www.netmaptools.org/Pages/NetMapHelp/valley_width___5x_bankfull_depth.htm), This parameter is created specifically for the Intrinsic Potential fish habitat model. It is based on valley width calculated at 5 times bankfull depth\n",
    "* VWI_Floor = Valley Width Index-IP, meaning same as fp_wdith?\n",
    "* MAX_GRAD_D = Maximum Downstream Gradient\n",
    "* DROPMAX = ?  diff from above?\n",
    "* FlowVel = stream flow velocity is predicted using the Manning equation (at bankfull hydrualic geometry).\n",
    "* D_DF_Ave = The susceptibility of channels to debris flow movement, scour and deposition, in terms of probability; an empirical model. Predictions include debris flow susceptibility across entire river networks, focusing on headwater streams, and debris flow susceptibilities in mainstem (fish bearing) channels at headwater tributary junctions (e.g., likely areas of debris flows impacts from steeper headwater channels).\n",
    "* GEP_CUM Generic Erosion Potential - summed downstream\n",
    "* GEP Generic erosion potential segment scale\n",
    "* GEP_del Generic erosion potential delivery segment scale\n",
    "* Tong_class =  The NetMap-based Tongass channel classification system, that relies on remote sensing data only (digital elevation models and GIS maps), uses process groups and channel types. [see for docs](https://www.netmaptools.org/Pages/NetMapHelp/tongass_channel_classification.htm?mw=MjQw&st=MQ==&sct=MTUzMC41&ms=AAAAAA==)"
   ]
  },
  {
   "cell_type": "markdown",
   "id": "a6598b5d-d5f7-4644-a434-9946fb64ac65",
   "metadata": {},
   "source": [
    "### Filter by stream order"
   ]
  },
  {
   "cell_type": "code",
   "execution_count": null,
   "id": "fc3d31c0-4329-47b5-ad96-bc787b460306",
   "metadata": {},
   "outputs": [],
   "source": [
    "smreach1 = smreach[smreach[\"STRM_ORDER\"] == 1]"
   ]
  },
  {
   "cell_type": "code",
   "execution_count": null,
   "id": "483d7321-699f-47de-9935-d287352ec52e",
   "metadata": {},
   "outputs": [],
   "source": [
    "smreach1.explore()"
   ]
  },
  {
   "cell_type": "code",
   "execution_count": null,
   "id": "b16b4d3a-68ab-404c-a8c7-8c4a3780a664",
   "metadata": {
    "scrolled": true
   },
   "outputs": [],
   "source": [
    "smreach.explore()"
   ]
  },
  {
   "cell_type": "code",
   "execution_count": null,
   "id": "b8d38cca-af31-4bab-b927-60881ea6c4c2",
   "metadata": {},
   "outputs": [],
   "source": []
  },
  {
   "cell_type": "markdown",
   "id": "896bdfd7-3035-4d5b-9ff3-6a8f8307c75f",
   "metadata": {},
   "source": [
    "# Using the linestring Z values to check highest points\n",
    "determine upstream endpoint for each head segment\n",
    "Use the z-values embedded in your LineString Z (you showed LINESTRING Z (...)), if present."
   ]
  },
  {
   "cell_type": "code",
   "execution_count": null,
   "id": "d50eab5d-bcb9-4797-aa4a-43eee8151c9e",
   "metadata": {},
   "outputs": [],
   "source": [
    "import geopandas as gpd\n",
    "import pandas as pd\n",
    "from shapely.geometry import Point, LineString\n",
    "import numpy as np\n",
    "\n",
    "# assume smreach is your GeoDataFrame\n",
    "gdf = smreach.copy()\n",
    "\n",
    "# 1) find IDs not referenced as a DOWN_ID -> these are segments with no upstreamers\n",
    "all_ids = set(gdf['ID'].astype(str))\n",
    "down_ids = set(gdf['DOWN_ID'].astype(str).dropna())\n",
    "head_seg_ids = [int(i) for i in (all_ids - down_ids)]\n",
    "\n",
    "head_segs = gdf[gdf['ID'].isin(head_seg_ids)].copy()\n",
    "len(head_segs), head_segs.shape\n"
   ]
  },
  {
   "cell_type": "code",
   "execution_count": null,
   "id": "71bce890-4ca6-44b5-9cab-fbb6b91c9f48",
   "metadata": {},
   "outputs": [],
   "source": [
    "from shapely.geometry import Point\n",
    "\n",
    "def endpoint_coords(line, which=0):\n",
    "    # which=0 -> start, which=-1 -> end\n",
    "    coords = list(line.coords)\n",
    "    return coords[which]\n",
    "\n",
    "def endpoint_z(line, which=0):\n",
    "    coords = list(line.coords)\n",
    "    # coords element format (x,y,z) if z exists\n",
    "    if len(coords[which]) >= 3:\n",
    "        return coords[which][2]\n",
    "    else:\n",
    "        return None\n",
    "\n",
    "# For each head segment, choose the endpoint with the higher elevation (upstream)\n",
    "head_points = []\n",
    "for idx, row in head_segs.iterrows():\n",
    "    line = row.geometry\n",
    "    s_z = endpoint_z(line, 0)\n",
    "    e_z = endpoint_z(line, -1)\n",
    "    # Prefer geometry Z if available\n",
    "    if s_z is not None and e_z is not None:\n",
    "        if s_z > e_z:\n",
    "            upstream_pt = Point(endpoint_coords(line, 0)[:2])  # x,y\n",
    "        else:\n",
    "            upstream_pt = Point(endpoint_coords(line, -1)[:2])\n",
    "    else:\n",
    "        # fallback: choose start point if Z missing (we'll refine with DEM below)\n",
    "        upstream_pt = Point(endpoint_coords(line, 0)[:2])\n",
    "    head_points.append({\n",
    "        'ID': row['ID'],\n",
    "        'geometry': upstream_pt,\n",
    "        'STRM_ORDER': row.get('STRM_ORDER', None),\n",
    "\n",
    "        # add any other attributes you want to carry\n",
    "    })\n",
    "\n",
    "head_pts_gdf = gpd.GeoDataFrame(head_points, crs=gdf.crs)\n"
   ]
  },
  {
   "cell_type": "code",
   "execution_count": null,
   "id": "c2457adb-467c-4b8c-a2a2-6c5dbf5eef66",
   "metadata": {},
   "outputs": [],
   "source": [
    "head_pts_gdf.explore()"
   ]
  },
  {
   "cell_type": "code",
   "execution_count": null,
   "id": "0f33acfd-b2ab-4e5f-b8a4-b9af6ef393da",
   "metadata": {},
   "outputs": [],
   "source": [
    "# Plot the first geodataframe\n",
    "m = smreach.explore(color='blue', name='Layer 1')\n",
    "\n",
    "# Add the second geodataframe to the same map\n",
    "head_pts_gdf.explore(m=m, color='red', name='Layer 2')"
   ]
  },
  {
   "cell_type": "code",
   "execution_count": null,
   "id": "6550c303-a703-430c-b2d4-ee8a7fd12809",
   "metadata": {},
   "outputs": [],
   "source": []
  }
 ],
 "metadata": {
  "kernelspec": {
   "display_name": "Python 3 (ipykernel)",
   "language": "python",
   "name": "python3"
  },
  "language_info": {
   "codemirror_mode": {
    "name": "ipython",
    "version": 3
   },
   "file_extension": ".py",
   "mimetype": "text/x-python",
   "name": "python",
   "nbconvert_exporter": "python",
   "pygments_lexer": "ipython3",
   "version": "3.11.13"
  }
 },
 "nbformat": 4,
 "nbformat_minor": 5
}
