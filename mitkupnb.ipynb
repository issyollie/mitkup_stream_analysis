{
 "cells": [
  {
   "cell_type": "markdown",
   "id": "04ae4b39-95b7-4c16-997c-ed07e79ad036",
   "metadata": {},
   "source": [
    "# Mitkof Stream Initiation Research "
   ]
  },
  {
   "cell_type": "markdown",
   "id": "aa4a0ad8-2243-4c67-b499-3065d02d88c4",
   "metadata": {},
   "source": [
    "### Dependencies"
   ]
  },
  {
   "cell_type": "code",
   "execution_count": null,
   "id": "40139a1e-fa82-4fe9-a680-f5e00392859d",
   "metadata": {},
   "outputs": [],
   "source": [
    "import geopandas as gpd\n",
    "import pandas as pd\n",
    "import numpy as np\n",
    "import os "
   ]
  },
  {
   "cell_type": "code",
   "execution_count": null,
   "id": "f7d13cd7-8214-4420-b163-697ae23c4196",
   "metadata": {},
   "outputs": [],
   "source": [
    "cd MitKup"
   ]
  },
  {
   "cell_type": "code",
   "execution_count": null,
   "id": "65db3338-f3fa-4e10-ba38-61aa5f0bf464",
   "metadata": {},
   "outputs": [],
   "source": [
    "reach = gpd.read_file(\"reach_Mitkup.shp\")"
   ]
  },
  {
   "cell_type": "code",
   "execution_count": null,
   "id": "1dca4e6c-8d8f-40ce-8e9d-3d883f36dc87",
   "metadata": {},
   "outputs": [],
   "source": [
    "reach.explore()"
   ]
  },
  {
   "cell_type": "code",
   "execution_count": null,
   "id": "dc9acdc6-5015-4054-af10-0b9348d569a9",
   "metadata": {},
   "outputs": [],
   "source": []
  }
 ],
 "metadata": {
  "kernelspec": {
   "display_name": "Python 3 (ipykernel)",
   "language": "python",
   "name": "python3"
  },
  "language_info": {
   "codemirror_mode": {
    "name": "ipython",
    "version": 3
   },
   "file_extension": ".py",
   "mimetype": "text/x-python",
   "name": "python",
   "nbconvert_exporter": "python",
   "pygments_lexer": "ipython3",
   "version": "3.11.13"
  }
 },
 "nbformat": 4,
 "nbformat_minor": 5
}
